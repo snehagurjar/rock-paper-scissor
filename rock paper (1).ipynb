{
 "cells": [
  {
   "cell_type": "code",
   "execution_count": null,
   "id": "6fb4c1d3",
   "metadata": {},
   "outputs": [],
   "source": [
    "import random\n",
    "\n",
    "def determine_winner(user_choice, computer_choice):\n",
    "    if user_choice == computer_choice:\n",
    "        return \"It's a tie!\"\n",
    "    elif (user_choice == 'rock' and computer_choice == 'scissors') or \\\n",
    "         (user_choice == 'paper' and computer_choice == 'rock') or \\\n",
    "         (user_choice == 'scissors' and computer_choice == 'paper'):\n",
    "        return \"user win!\"\n",
    "    else:\n",
    "        return \"Computer wins!\"\n",
    "\n",
    "def main():\n",
    "    choices = ['rock', 'paper', 'scissors']\n",
    "    \n",
    "    while True:\n",
    "        print(\"Welcome to Rock, Paper, Scissors!\")\n",
    "        print(\"Enter your choice (rock, paper, or scissors) or 'quit' to end the game:\")\n",
    "        user_choice = input().lower()\n",
    "        \n",
    "        \n",
    "        if user_choice == 'quit':\n",
    "            print(\"Thanks for playing!\")\n",
    "            break\n",
    "        \n",
    "        if user_choice not in choices:\n",
    "            print(\"Invalid choice. Please choose again.\")\n",
    "            continue\n",
    "        \n",
    "        computer_choice = random.choice(choices)\n",
    "        print(f\"user chose: {user_choice}\")\n",
    "        print(f\"Computer chose: {computer_choice}\")\n",
    "        print(determine_winner(user_choice, computer_choice))\n",
    "        print()\n",
    "\n",
    "if __name__ == \"__main__\":\n",
    "    main()"
   ]
  },
  {
   "cell_type": "code",
   "execution_count": null,
   "id": "eec3fcc3",
   "metadata": {},
   "outputs": [],
   "source": []
  }
 ],
 "metadata": {
  "kernelspec": {
   "display_name": "Python 3 (ipykernel)",
   "language": "python",
   "name": "python3"
  },
  "language_info": {
   "codemirror_mode": {
    "name": "ipython",
    "version": 3
   },
   "file_extension": ".py",
   "mimetype": "text/x-python",
   "name": "python",
   "nbconvert_exporter": "python",
   "pygments_lexer": "ipython3",
   "version": "3.11.4"
  }
 },
 "nbformat": 4,
 "nbformat_minor": 5
}
